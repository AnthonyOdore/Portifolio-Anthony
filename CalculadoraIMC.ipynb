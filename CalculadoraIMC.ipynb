{
  "nbformat": 4,
  "nbformat_minor": 0,
  "metadata": {
    "colab": {
      "provenance": [],
      "authorship_tag": "ABX9TyP/uCXZS7+/EYsp7sKL2JlG",
      "include_colab_link": true
    },
    "kernelspec": {
      "name": "python3",
      "display_name": "Python 3"
    },
    "language_info": {
      "name": "python"
    }
  },
  "cells": [
    {
      "cell_type": "markdown",
      "metadata": {
        "id": "view-in-github",
        "colab_type": "text"
      },
      "source": [
        "<a href=\"https://colab.research.google.com/github/AnthonyOdore/Portifolio-Anthony/blob/main/CalculadoraIMC.ipynb\" target=\"_parent\"><img src=\"https://colab.research.google.com/assets/colab-badge.svg\" alt=\"Open In Colab\"/></a>"
      ]
    },
    {
      "cell_type": "code",
      "execution_count": 1,
      "metadata": {
        "colab": {
          "base_uri": "https://localhost:8080/"
        },
        "id": "YQxrvLIe-hr2",
        "outputId": "04883927-32e8-4212-cb46-11fac9a12e98"
      },
      "outputs": [
        {
          "output_type": "stream",
          "name": "stdout",
          "text": [
            " Olá, qual seu nome? Tony\n",
            " Seu peso: (Kg) 70\n",
            " Sua altura: (m) 1.73\n",
            "\n",
            "------CALCULADOR DE IMC EM PYTHON------\n",
            "\n",
            " Aqui está o resultado, Tony \n",
            "\n",
            " SEU IMC É DE 23.4\n",
            "Parabéns, Você está no peso ideal\n"
          ]
        }
      ],
      "source": [
        "nome = input(' Olá, qual seu nome? ')\n",
        "peso = float(input(' Seu peso: (Kg) '))\n",
        "altura = float(input(' Sua altura: (m) '))\n",
        "imc = peso / (altura **2)\n",
        "\n",
        "print('\\n------CALCULADOR DE IMC EM PYTHON------\\n')\n",
        "print(' Aqui está o resultado, ' + nome.capitalize() , '\\n')\n",
        "print(' SEU IMC É DE {:.1f}'.format(imc))\n",
        "\n",
        "if imc < 18.5:\n",
        "  print(' Você está abaixo do peso ideal')\n",
        "elif imc >= 18.5 and imc < 25:\n",
        "  print('Parabéns, Você está no peso ideal')\n",
        "elif imc >= 25 and imc < 30:\n",
        "  print(' Você está en sobrepeso')\n",
        "elif imc >= 30 and imc < 40:\n",
        "  print(' Você está com obesidade')\n",
        "elif imc >= 40:\n",
        "  print(' Você está com obesidade mórbida \\n')"
      ]
    }
  ]
}